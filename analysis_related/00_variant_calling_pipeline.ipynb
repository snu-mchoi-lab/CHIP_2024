{
 "cells": [
  {
   "cell_type": "markdown",
   "metadata": {},
   "source": [
    "## genotype preprocessing\n",
    "\n",
    "Genotype preprocessing of somatic mutation had done using nextflow/sarek and vcf processing using R. this code describes how-to tutorial."
   ]
  },
  {
   "cell_type": "markdown",
   "metadata": {
    "vscode": {
     "languageId": "plaintext"
    }
   },
   "source": [
    "### 1. CHIP panel preprocessing\n",
    "\n",
    "1. liftOver \n",
    "\n",
    "```\n",
    "liftOver -bedPlus=3 -tab UCSC_SGI_CHIP_V1_Rev2_TE-93684413_hg19_210301150844.modified.bed /ssd-data/support/tool/liftover/hg19ToHg38.over.chain.gz UCSC_SGI_CHIP_V1_Rev2_TE-93684413_hg19_210301150844_liftover_to_hg38.bed UCSC_SGI_CHIP_V1_Rev2_TE-93684413_hg19_210301150844_nolifted.bed\n",
    "```\n",
    "2. calling CHIP using nextflow/sarek\n",
    "\n",
    "__calling somatic variant__\n",
    "```\n",
    "nextflow run nf-core/sarek -r 3.1.1 -c nextflow_targeted_hg38.config \\\n",
    "    -resume -profile docker --nucleotides_per_second 30000 \\\n",
    "    --genome GATK.GRCh38 \\\n",
    "    --intervals UCSC_SGI_CHIP_V1_Rev2_TE-93684413_hg19_210301150844_liftover_to_hg38.bed --wes \\\n",
    "    --input samplelist.csv \\\n",
    "    --tools mutect2,vep,snpeff \\\n",
    "    --outdir .\n",
    "```"
   ]
  },
  {
   "cell_type": "markdown",
   "metadata": {
    "vscode": {
     "languageId": "plaintext"
    }
   },
   "source": [
    "### 2. WES preprocessing\n",
    "\n",
    "* this pipeline needed to access cloud service provider such as AWS. do not recommend to execute following code in local computer. \n",
    "\n",
    "1. calling somatic mutations in WES using nextflow/sarek\n",
    "```\n",
    "./nextflow run nf-core/sarek -r 3.1.1 -c ./aws_nf.conf -resume -profile docker,awsbatch \\\n",
    "-bucket-dir s3://bucket/ \\\n",
    "--wes \\\n",
    "--genome GATK.GRCh38 \\\n",
    "--igenomes_base s3://bucket/references/ \\\n",
    "--intervals s3://bucket/references/S04380110_Regions.bed \\\n",
    "--input ./samplesheet_WES_pilot_aws.csv \\\n",
    "--tools mutect2,vep,snpeff \\\n",
    "--outdir s3://bucket/key_out/\n",
    "```\n"
   ]
  },
  {
   "cell_type": "markdown",
   "metadata": {
    "vscode": {
     "languageId": "plaintext"
    }
   },
   "source": [
    "### 3. gathering VCFs and finalize files\n",
    "\n",
    "1. retain PASS calls\n",
    "\n",
    "```\n",
    "bcftools view -f 'PASS,.' each_sample.VEP.vcf.gz > each_sample.PASS.VEP.vcf.gz\n",
    "bcftools view -f 'PASS,.' each_sample.snpeff.vcf.gz > each_sample.PASS.snpeff.vcf.gz\n",
    "```\n",
    "\n",
    "2. use following scripts in R"
   ]
  },
  {
   "cell_type": "code",
   "execution_count": null,
   "metadata": {
    "vscode": {
     "languageId": "r"
    }
   },
   "outputs": [],
   "source": [
    "vlib = c(\"tidyverse\", \"data.table\", \"vcfR\", \"ggpubr\")\n",
    "lapply(vlib, require, character.only = TRUE) |> suppressMessages()\n",
    "chr_anno_path = \"202111-CHIP/CHIPv4_batch5/annotation/\"\n",
    "chr_probeset = \"202111-CHIP/CHIP/SGI_CHIP/all_target_segments_covered_by_probes_SGI_CHIP_V1_Rev2_TE-93684413_GRCh38_lifted.bed\""
   ]
  },
  {
   "cell_type": "code",
   "execution_count": null,
   "metadata": {
    "vscode": {
     "languageId": "r"
    }
   },
   "outputs": [],
   "source": [
    "setwd(chr_anno_path)\n",
    "probeset = fread(chr_probeset)\n",
    "c_list_samples = list.files(pattern = \"D_*\")\n",
    "df_fname = data.frame(\n",
    "    ID = c_list_samples,\n",
    "    snpeff = paste0(c_list_samples, \"/\", c_list_samples, \".mutect2.filtered_snpEff.ann.vcf.gz\"),\n",
    "    vep = paste0(c_list_samples, \"/\", c_list_samples, \".mutect2.filtered_VEP.ann.vcf.gz\")\n",
    ")\n",
    "cat(\"sample size is\", nrow(df_fname), \"\\n\")\n",
    "df_fname %>% head()"
   ]
  },
  {
   "cell_type": "code",
   "execution_count": null,
   "metadata": {
    "vscode": {
     "languageId": "r"
    }
   },
   "outputs": [],
   "source": [
    "# pre-defined\n",
    "c_ANN_colnames = c(\"Allele\", \"Annotation\", \"Annotation_Impact\", \n",
    "                    \"Gene_Name\", \"Gene_ID\", \"Feature_Type\", \n",
    "                   \"Feature_ID\", \"Transcript_BioType\", \"RANK\", \n",
    "                   \"HGVS.c\", \"HGVS.p\", \"cDNA_Pos\", \n",
    "                   \"CDS_Pos\", \"AA_Pos\", \"Distance\", \n",
    "                   \"NOTES\")\n",
    "\n",
    "c_CSQ_colnames = c(\"Allele\",\"Consequence\",\"IMPACT\",\n",
    "                    \"SYMBOL\",\"Gene\",\"Feature_type\",\n",
    "                    \"Feature\",\"BIOTYPE\",\"EXON\",\n",
    "                   \"INTRON\",\"HGVSc\",\"HGVSp\",\n",
    "                   \"cDNA_position\",\"CDS_position\",\"Protein_position\",\n",
    "                   \"Amino_acids\",\"Codons\",\"Existing_variation\",\n",
    "                   \"DISTANCE\",\"STRAND\",\"FLAGS\",\n",
    "                   \"VARIANT_CLASS\",\"SYMBOL_SOURCE\",\n",
    "                   \"HGNC_ID\",\"CANONICAL\",\"MANE_SELECT\",\n",
    "                   \"MANE_PLUS_CLINICAL\",\"TSL\",\"APPRIS\",\n",
    "                   \"CCDS\",\"ENSP\",\"SWISSPROT\",\n",
    "                   \"TREMBL\",\"UNIPARC\",\"UNIPROT_ISOFORM\",\n",
    "                   \"GENE_PHENO\",\"SIFT\",\"PolyPhen\",\"DOMAINS\",\n",
    "                   \"miRNA\",\"AF\",\"AFR_AF\",\"AMR_AF\",\"EAS_AF\",\"EUR_AF\",\"SAS_AF\",\n",
    "                   \"gnomADe_AF\",\"gnomADe_AFR_AF\",\"gnomADe_AMR_AF\",\"gnomADe_ASJ_AF\",\"gnomADe_EAS_AF\",\"gnomADe_FIN_AF\",\"gnomADe_NFE_AF\",\"gnomADe_OTH_AF\",\"gnomADe_SAS_AF\",\n",
    "                   \"gnomADg_AF\",\"gnomADg_AFR_AF\",\"gnomADg_AMI_AF\",\"gnomADg_AMR_AF\",\"gnomADg_ASJ_AF\",\"gnomADg_EAS_AF\",\"gnomADg_FIN_AF\",\"gnomADg_MID_AF\",\n",
    "                   \"gnomADg_NFE_AF\",\"gnomADg_OTH_AF\",\"gnomADg_SAS_AF\",\n",
    "                   \"MAX_AF\",\"MAX_AF_POPS\",\n",
    "                   \"FREQS\",\"CLIN_SIG\",\"SOMATIC\",\n",
    "                   \"PHENO\",\"PUBMED\",\n",
    "                   \"MOTIF_NAME\",\"MOTIF_POS\",\"HIGH_INF_POS\",\"MOTIF_SCORE_CHANGE\",\"TRANSCRIPTION_FACTORS\")"
   ]
  },
  {
   "cell_type": "code",
   "execution_count": null,
   "metadata": {
    "vscode": {
     "languageId": "r"
    }
   },
   "outputs": [],
   "source": [
    "setwd(\"202111-CHIP/CHIPv4_batch5/annotation/\")\n",
    "list_res = list(mode = \"vector\", length = nrow(df_fname))\n",
    "for (each in 1:nrow(df_fname)){\n",
    "    vcf = read.vcfR(paste0(df_fname$snpeff[each]), verbose = F)\n",
    "    tidy_vcf = vcfR2tidy(vcf) |> suppressMessages()\n",
    "    if (nrow(tidy_vcf$fix)> 0){\n",
    "        # clarify filters\n",
    "        df_snpeff_each_selected = tidy_vcf$fix %>% \n",
    "            filter(FILTER == \"PASS\") %>%  # collect pass calls\n",
    "            select(CHROM, POS, REF, ALT, AS_SB_TABLE, ANN) %>% \n",
    "            add_column(.before = 1, ID = df_fname$ID[each])\n",
    "        df_snpeff_each_gt = tidy_vcf$gt %>%\n",
    "            select(POS, gt_AD, gt_AF, gt_DP)\n",
    "        df_snpeff_each_res = left_join(df_snpeff_each_selected, df_snpeff_each_gt) %>% \n",
    "            select(ID:AS_SB_TABLE, gt_AD:gt_DP, ANN) %>% \n",
    "            separate(col = ANN, into = c_ANN_colnames, sep = \"\\\\|\", extra = \"drop\" )\n",
    "    } else {\n",
    "        df_snpeff_each_res = NULL\n",
    "    }\n",
    "  list_res[[each]] = df_snpeff_each_res\n",
    "  cat(each, \"th dataset was processed\\n\")\n",
    "}"
   ]
  },
  {
   "cell_type": "code",
   "execution_count": null,
   "metadata": {
    "vscode": {
     "languageId": "r"
    }
   },
   "outputs": [],
   "source": [
    "df_snpeff_output = list_res %>% bind_rows() %>% \n",
    "  mutate(bind = paste0(`CHROM`, \":\", POS, \"_\", REF, \"_\", ALT)) %>% \n",
    "  group_by(bind) %>% add_count() %>% \n",
    "  separate(gt_AD, into = c(\"AC_REF\", \"AC_ALT\"), sep = \",\")  %>%\n",
    "  #filter(!(Annotation %in% c(\"synonymous_variant\", \"intergenic_region\", \"intron_variant\"))) %>%\n",
    "  write_delim(\"202111-CHIP/CHIPv4_batch5/230324_vcf_snpeff_output_v1.txt\", delim = \"\\t\")"
   ]
  },
  {
   "cell_type": "code",
   "execution_count": null,
   "metadata": {
    "vscode": {
     "languageId": "r"
    }
   },
   "outputs": [],
   "source": [
    "setwd(\"/mnt/workspace/202111-CHIP/CHIPv4_batch5/annotation/\")\n",
    "list_res = list(mode = \"vector\", length = nrow(df_fname))"
   ]
  },
  {
   "cell_type": "code",
   "execution_count": null,
   "metadata": {
    "vscode": {
     "languageId": "r"
    }
   },
   "outputs": [],
   "source": [
    "for (each in 1:nrow(df_fname)){\n",
    "  vcf = read.vcfR(paste0(df_fname$vep[each]), verbose = F)\n",
    "  tidy_vcf = vcfR2tidy(vcf) |> suppressMessages()\n",
    "  if (nrow(tidy_vcf$fix) > 0) {\n",
    "    # clarify filters\n",
    "    df_vep_each_selected = tidy_vcf$fix %>%\n",
    "      filter(FILTER == \"PASS\") %>% # filtering DP\n",
    "      select(ChromKey, CHROM, POS, REF, ALT, AS_SB_TABLE, CSQ) %>%\n",
    "      add_column(.before = 1, ID = df_fname$ID[each])\n",
    "    df_vep_each_gt = tidy_vcf$gt %>%\n",
    "      select(ChromKey, POS, gt_AD, gt_AF, gt_DP)\n",
    "    df_vep_each_res = left_join(df_vep_each_selected, df_vep_each_gt) %>%\n",
    "      select(ID:AS_SB_TABLE, gt_AD:gt_DP, CSQ) %>%\n",
    "      separate(col = CSQ, into = c_CSQ_colnames, sep = \"\\\\|\", extra = \"drop\") %>%\n",
    "      select(ID:AS_SB_TABLE, gt_AD:gt_DP, Consequence, SIFT, PolyPhen, SYMBOL:Feature, Existing_variation, AF:MAX_AF_POPS, -ChromKey)\n",
    "  } else {\n",
    "    df_vep_each_res = NULL\n",
    "  }\n",
    "  list_res[[each]] = df_vep_each_res\n",
    "  cat(each, \"th dataset was processed\\n\")\n",
    "}\n"
   ]
  },
  {
   "cell_type": "code",
   "execution_count": null,
   "metadata": {
    "vscode": {
     "languageId": "r"
    }
   },
   "outputs": [],
   "source": [
    "df_vep_output  = list_res %>% bind_rows() %>%\n",
    "  mutate(bind = paste0(`CHROM`, \":\", POS, \"_\", REF, \"_\", ALT)) %>%\n",
    "  group_by(bind) %>%\n",
    "  mutate(n = n())"
   ]
  },
  {
   "cell_type": "code",
   "execution_count": null,
   "metadata": {
    "vscode": {
     "languageId": "r"
    }
   },
   "outputs": [],
   "source": [
    "setwd(\"/mnt/workspace/202111-CHIP/CHIPv4_batch5/\")\n",
    "left_join(df_snpeff_output, df_vep_output) %>% write_delim(\"230324_annotation_merged_raw_output.txt\", delim = \"\\t\")"
   ]
  },
  {
   "cell_type": "code",
   "execution_count": null,
   "metadata": {
    "vscode": {
     "languageId": "r"
    }
   },
   "outputs": [],
   "source": [
    "setwd(\"202111-CHIP/CHIPv4_batch5/\")\n",
    "fread(\"230324_annotation_merged_raw_output.txt\") %>%\n",
    "  filter(\n",
    "    AC_ALT >= 10 & AC_REF >= 10 & gt_DP >= 200 &\n",
    "    ((gt_AF >= 0.02 & gt_AF <= 0.40) | (gt_AF >= 0.60 & gt_AF <= 0.98))\n",
    "  ) %>% # technically correct calls\n",
    "  mutate(temp_AF_gnomAD = ifelse(\n",
    "    (ifelse(is.na(gnomADe_AF), 0, gnomADe_AF) >= ifelse(is.na(gnomADg_AF), 0, gnomADg_AF)),\n",
    "    gnomADe_AF,\n",
    "    gnomADg_AF\n",
    "  )) %>%  # add max AF\n",
    "  filter((grepl(x = Existing_variation, pattern = \"C\") == TRUE) | # conserve COSV calls\n",
    "           (grepl(x = Existing_variation, pattern = \"C\") == FALSE &\n",
    "             (temp_AF_gnomAD < 1e-5 | is.na(temp_AF_gnomAD) == TRUE))) %>% # remove non-COSV calls with high gnomAD freq\n",
    "  select(-temp_AF_gnomAD, -n) %>%\n",
    "  group_by(bind) %>%\n",
    "  add_count() %>%\n",
    "  filter(n < floor(nrow(df_fname) / 10)) %>% # add count and cohort-based filter\n",
    "  write_delim(\"230324_annotation_merged_filtered_output.txt\", delim = \"\\t\")\n",
    "\n",
    "# manually filter after this step."
   ]
  }
 ],
 "metadata": {
  "language_info": {
   "name": "python"
  }
 },
 "nbformat": 4,
 "nbformat_minor": 2
}
