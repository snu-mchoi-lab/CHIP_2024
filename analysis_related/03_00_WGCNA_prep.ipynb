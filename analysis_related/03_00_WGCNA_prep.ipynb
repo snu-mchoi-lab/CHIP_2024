{
 "cells": [
  {
   "cell_type": "code",
   "execution_count": null,
   "metadata": {
    "vscode": {
     "languageId": "r"
    }
   },
   "outputs": [],
   "source": [
    "vlib = c(\"tidyverse\", \"mashr\", \"ashr\", \"ggpubr\", \"data.table\", \"tidyseurat\",\n",
    "         \"future.apply\", \"arrow\", 'pheatmap', \"Seurat\", \"hdWGCNA\", \"magrittr\")\n",
    "lapply(vlib, require, character.only = TRUE, quietly = TRUE) |> suppressMessages()\n",
    "\n",
    "\n",
    "base.dir = \"/path/to/dir/\"\n",
    "\n",
    "\n",
    "saveRDS.gz <- function(object,file,threads=4) {\n",
    "  con <- pipe(paste0(\"pigz -p\",threads,\" > \",file),\"wb\")\n",
    "  saveRDS(object, file = con)\n",
    "  close(con)\n",
    "}\n",
    "readRDS.gz <- function(file,threads=parallel::detectCores()) {\n",
    "  con <- pipe(paste0(\"pigz -d -c -p\",threads,\" \",file))\n",
    "  object <- readRDS(file = con)\n",
    "  close(con)\n",
    "  return(object)\n",
    "}\n",
    "\n"
   ]
  },
  {
   "cell_type": "code",
   "execution_count": null,
   "metadata": {
    "vscode": {
     "languageId": "r"
    }
   },
   "outputs": [],
   "source": [
    "\n",
    "set.seed(42)\n",
    "\n",
    "# optionally enable multithreading\n",
    "enableWGCNAThreads(nThreads = 24)\n",
    "\n",
    "seurat_obj_full = readRDS.gz(\"/path/to/seurat_obj.RDS\")"
   ]
  },
  {
   "cell_type": "markdown",
   "metadata": {},
   "source": [
    "### creating cluster-specific object"
   ]
  },
  {
   "cell_type": "code",
   "execution_count": null,
   "metadata": {
    "vscode": {
     "languageId": "r"
    }
   },
   "outputs": [],
   "source": [
    "# RNA object\n",
    "dgcM = seurat_obj_full@assays$RNA@counts\n",
    "md = seurat_obj_full@meta.data\n",
    "seurat_obj = CreateSeuratObject(counts = dgcM, meta.data = md, assay = \"RNA\")\n",
    "\n",
    "seurat_obj@reductions$harmony = seurat_obj_full@reductions$harmony\n",
    "seurat_obj %>% saveRDS.gz(file = \"/path/to/minimal_base_obj.RNA.RDS\")"
   ]
  },
  {
   "cell_type": "code",
   "execution_count": null,
   "metadata": {
    "vscode": {
     "languageId": "r"
    }
   },
   "outputs": [],
   "source": [
    "df_si = read_delim(\"/path/to/sample_information.txt\")"
   ]
  },
  {
   "cell_type": "code",
   "execution_count": null,
   "metadata": {
    "vscode": {
     "languageId": "r"
    }
   },
   "outputs": [],
   "source": [
    "library(tidyseurat)\n",
    "seurat_obj = seurat_obj %>%\n",
    "  filter(sample %in% df_si$IID) %>%\n",
    "  NormalizeData() %>%\n",
    "  FindVariableFeatures() %>%\n",
    "  ScaleData()\n",
    "\n",
    "seurat_obj = seurat_obj %>%\n",
    "  RunPCA\n",
    "\n",
    "\n",
    "seurat_obj <- SetupForWGCNA(\n",
    "  seurat_obj,\n",
    "  gene_select = \"fraction\", \n",
    "  fraction = 0.05, \n",
    "  wgcna_name = \"wgcna\"\n",
    ")\n",
    "\n",
    "\n",
    "seurat_obj <- MetacellsByGroups(\n",
    "  seurat_obj = seurat_obj,\n",
    "  group.by = c(\"anno_l1\", \"sample_time\"), # specify the columns in seurat_obj@meta.data to group by\n",
    "  reduction = 'harmony', # select the dimensionality reduction to perform KNN on\n",
    "  k = 50, # nearest-neighbors parameter\n",
    "  min_cells = 150,\n",
    "  max_shared = 20, # maximum number of shared cells between two metacells\n",
    "  ident.group = 'anno_l1', # set the Idents of the metacell seurat object\n",
    "  verbose = TRUE\n",
    ")\n",
    "\n",
    "seurat_obj <- NormalizeMetacells(seurat_obj)\n",
    "\n",
    "seurat_obj %>% saveRDS.gz(file = \"/path/to/seurat_obj_preped_for_wgcna.RDS\")"
   ]
  }
 ],
 "metadata": {
  "language_info": {
   "name": "python"
  }
 },
 "nbformat": 4,
 "nbformat_minor": 2
}
